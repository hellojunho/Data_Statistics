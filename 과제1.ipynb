{
 "cells": [
  {
   "cell_type": "markdown",
   "metadata": {},
   "source": [
    "## 1-1) 각각의 데이터에서 신장과 체중의 평균 구하기"
   ]
  },
  {
   "cell_type": "markdown",
   "metadata": {},
   "source": [
    "### 원 데이터의 신장과 체중의 평균값"
   ]
  },
  {
   "cell_type": "code",
   "execution_count": 45,
   "metadata": {},
   "outputs": [
    {
     "name": "stdout",
     "output_type": "stream",
     "text": [
      "원 데이터 신장(X1)의 평균값 :  167.451\n",
      "원 데이터 체중(X2)의 평균값 :  65.9154\n"
     ]
    }
   ],
   "source": [
    "import pandas as pd\n",
    "import csv\n",
    "\n",
    "f = open('ex01.csv', 'r', encoding='utf-8')\n",
    "data = csv.reader(f)\n",
    "header=next(data)\n",
    "header=next(data)\n",
    "df = pd.DataFrame(list(data))\n",
    "\n",
    "sum_height = 0 # 신장 전체 합\n",
    "sum_weight = 0 # 체중 전체 합\n",
    "\n",
    "# 신장 평균 구하기\n",
    "for i in range(0, 12):\n",
    "    df[1][i] = float(df[1][i]) # 데이터 실수화\n",
    "    sum_height += df[1][i]\n",
    "    \n",
    "avg_height = round(sum_height / 12, 4) # 신장 평균\n",
    "\n",
    "# 체중 평균 구하기\n",
    "for i in range(0, 12):\n",
    "    df[2][i] = float(df[2][i]) # 데이터 실수화\n",
    "    sum_weight += df[2][i]\n",
    "    \n",
    "avg_weight = round(sum_weight / 12, 4)\n",
    "\n",
    "print(\"원 데이터 신장(X1)의 평균값 : \", avg_height) # 신장 평균값 출력\n",
    "print(\"원 데이터 체중(X2)의 평균값 : \", avg_weight) # 체중 평균값 출력"
   ]
  },
  {
   "cell_type": "markdown",
   "metadata": {},
   "source": [
    "### 평균보정 데이터의 신장과 체중의 평균값"
   ]
  },
  {
   "cell_type": "code",
   "execution_count": 46,
   "metadata": {
    "scrolled": true
   },
   "outputs": [
    {
     "name": "stdout",
     "output_type": "stream",
     "text": [
      "평균보정 데이터 신장(X1)의 평균값 :  0.0\n",
      "평균보정 데이터 체중(X2)의 평균값 :  -0.0\n"
     ]
    }
   ],
   "source": [
    "import pandas as pd\n",
    "import csv\n",
    "\n",
    "f = open('ex01.csv', 'r', encoding='utf-8')\n",
    "data = csv.reader(f)\n",
    "header=next(data)\n",
    "header=next(data)\n",
    "df = pd.DataFrame(list(data))\n",
    "\n",
    "sum_height = 0 # 신장 전체 합\n",
    "sum_weight = 0 # 체중 전체 합\n",
    "\n",
    "# 신장 평균 구하기\n",
    "for i in range(0, 12):\n",
    "    df[3][i] = float(df[3][i]) # 데이터 실수화\n",
    "    sum_height += df[3][i]\n",
    "    \n",
    "avg_height = round(sum_height / 12, 4) # 신장 평균\n",
    "\n",
    "# 체중 평균 구하기\n",
    "for i in range(0, 12):\n",
    "    df[4][i] = float(df[4][i]) # 데이터 실수화\n",
    "    sum_weight += df[4][i]\n",
    "    \n",
    "avg_weight = round(sum_weight / 12, 4)\n",
    "\n",
    "print(\"평균보정 데이터 신장(X1)의 평균값 : \", avg_height) # 신장 평균값 출력\n",
    "print(\"평균보정 데이터 체중(X2)의 평균값 : \", avg_weight) # 체중 평균값 출력"
   ]
  },
  {
   "cell_type": "markdown",
   "metadata": {},
   "source": [
    "---"
   ]
  },
  {
   "cell_type": "markdown",
   "metadata": {},
   "source": [
    "## 1-2) 각각의 데이터에서 신장과 체중의 분산 구하기"
   ]
  },
  {
   "cell_type": "markdown",
   "metadata": {},
   "source": [
    "### 1-1 에서 구한 평균값"
   ]
  },
  {
   "cell_type": "code",
   "execution_count": 47,
   "metadata": {
    "scrolled": true
   },
   "outputs": [
    {
     "name": "stdout",
     "output_type": "stream",
     "text": [
      "원 데이터 신장(X1)의 평균값 :  167.451\n",
      "원 데이터 체중(X2)의 평균값 :  65.9154\n",
      "평균보정 데이터 신장(X1)의 평균값 :  0.0\n",
      "평균보정 데이터 체중(X2)의 평균값 :  -0.0\n"
     ]
    }
   ],
   "source": [
    "import pandas as pd\n",
    "import csv\n",
    "import numpy as np\n",
    "\n",
    "f = open('ex01.csv', 'r', encoding='utf-8')\n",
    "data = csv.reader(f)\n",
    "header=next(data)\n",
    "header=next(data)\n",
    "df = pd.DataFrame(list(data))\n",
    "\n",
    "sum_height = 0 # 신장 전체 합\n",
    "sum_weight = 0 # 체중 전체 합\n",
    "\n",
    "### 원데이터 ###\n",
    "\n",
    "# 신장 평균 구하기\n",
    "for i in range(0, 12):\n",
    "    df[1][i] = float(df[1][i]) # 데이터 실수화\n",
    "    sum_height += df[1][i]\n",
    "    \n",
    "avg_height = round(sum_height / 12, 4) # 신장 평균\n",
    "\n",
    "# 체중 평균 구하기\n",
    "for i in range(0, 12):\n",
    "    df[2][i] = float(df[2][i]) # 데이터 실수화\n",
    "    sum_weight += df[2][i]\n",
    "    \n",
    "avg_weight = round(sum_weight / 12, 4)\n",
    "\n",
    "### 평균보정 데이터 ###\n",
    "\n",
    "sum_height2 = 0 # 신장 전체 합\n",
    "sum_weight2 = 0 # 체중 전체 합\n",
    "\n",
    "# 신장 평균 구하기\n",
    "for i in range(0, 12):\n",
    "    df[3][i] = float(df[3][i]) # 데이터 실수화\n",
    "    sum_height2 += df[3][i]\n",
    "    \n",
    "avg_height2 = round(sum_height2 / 12, 4) # 신장 평균\n",
    "\n",
    "# 체중 평균 구하기\n",
    "for i in range(0, 12):\n",
    "    df[4][i] = float(df[4][i]) # 데이터 실수화\n",
    "    sum_weight2 += df[4][i]\n",
    "    \n",
    "avg_weight2 = round(sum_weight2 / 12, 4)\n",
    "\n",
    "print(\"원 데이터 신장(X1)의 평균값 : \", avg_height) # 신장 평균값 출력\n",
    "print(\"원 데이터 체중(X2)의 평균값 : \", avg_weight) # 체중 평균값 출력\n",
    "print(\"평균보정 데이터 신장(X1)의 평균값 : \", avg_height2) # 신장 평균값 출력\n",
    "print(\"평균보정 데이터 체중(X2)의 평균값 : \", avg_weight2) # 체중 평균값 출력"
   ]
  },
  {
   "cell_type": "markdown",
   "metadata": {},
   "source": [
    "### 원 데이터의 분산"
   ]
  },
  {
   "cell_type": "code",
   "execution_count": 48,
   "metadata": {
    "scrolled": true
   },
   "outputs": [
    {
     "name": "stdout",
     "output_type": "stream",
     "text": [
      "원 데이터 신장(X1)의 분산 :  82.8687\n",
      "원 데이터 체중(X2)의 분산 :  113.7014\n"
     ]
    }
   ],
   "source": [
    "### 원 데이터 ###\n",
    "\n",
    "vsum_height = 0 # 신장 데이터의 분산 구하기 위한 합\n",
    "for i in range(0, 12):\n",
    "    vsum_height += (df[1][i] - avg_height)**2\n",
    "    \n",
    "vavg_height = round(vsum_height / 12, 4) # 신장 데이터의 분산\n",
    "\n",
    "vsum_weight = 0 # 체중 데이터의 분산 구하기 위한 합\n",
    "for i in range(0, 12):\n",
    "    vsum_weight += (df[2][i] - avg_weight)**2\n",
    "    \n",
    "vavg_weight = round(vsum_weight / 12, 4) # 체중 데이터의 분산\n",
    "\n",
    "print(\"원 데이터 신장(X1)의 분산 : \", vavg_height)\n",
    "print(\"원 데이터 체중(X2)의 분산 : \", vavg_weight)"
   ]
  },
  {
   "cell_type": "markdown",
   "metadata": {},
   "source": [
    "### 평균보정 데이터의 분산"
   ]
  },
  {
   "cell_type": "code",
   "execution_count": 49,
   "metadata": {},
   "outputs": [
    {
     "name": "stdout",
     "output_type": "stream",
     "text": [
      "평균보정 데이터 신장(X1)의 분산 :  82.8687\n",
      "평균보정 데이터 체중(X2)의 분산 :  113.7012\n"
     ]
    }
   ],
   "source": [
    "### 평균보정 데이터 ###\n",
    "\n",
    "vsum_height2 = 0 # 신장 데이터의 분산 구하기 위한 합\n",
    "for i in range(0, 12):\n",
    "    vsum_height2 += (df[3][i] - avg_height2)**2\n",
    "    \n",
    "vavg_height2 = round(vsum_height2 / 12, 4) # 신장 데이터의 분산\n",
    "\n",
    "vsum_weight2 = 0 # 체중 데이터의 분산 구하기 위한 합\n",
    "for i in range(0, 12):\n",
    "    vsum_weight2 += (df[4][i] - avg_weight2)**2\n",
    "    \n",
    "vavg_weight2 = round(vsum_weight2 / 12, 4) # 체중 데이터의 분산\n",
    "\n",
    "print(\"평균보정 데이터 신장(X1)의 분산 : \", vavg_height2)\n",
    "print(\"평균보정 데이터 체중(X2)의 분산 : \", vavg_weight2)"
   ]
  },
  {
   "cell_type": "markdown",
   "metadata": {},
   "source": [
    "---"
   ]
  },
  {
   "cell_type": "markdown",
   "metadata": {},
   "source": [
    "## 1-3) 두 가지 데이터에 대해 평균과 분산의 차이 비교\n",
    "\n",
    "1. 원 데이터와 평균보정 데이터의 평균 값은 다르게 나온다. 먼저, 원 데이터의 평균은 우리가 흔히 구하는 산술평균의 값이 나왔다. 반면에, 평균보정 데이터의 평균값은 0.0으로 신장과 체중의 평균이 모두 동일하게 나온 것으로 보아, 평균보정이라는 말의 의미가 편차를 의미하는 것이라고 생각이 든다.\n",
    "---\n",
    "2. 분산을 비교해 보았을 때, 원 데이터와 평균보정 데이터의 분산이 동일하게 나왔다. 분산은 (값 - 평균)^2 의 합이다. 이를 보아 두 데이터의 분산이 같은 이유는 (평균보정 데이터 - 평균보정 데이터 평균)^2 == (원 데이터 - 원 데이터 평균)^2 이므로, 1번에서 생각한대로 평균보정이라는 말이 원 데이터 - 원 데이터 평균 임을 추측할 수 있다."
   ]
  },
  {
   "cell_type": "markdown",
   "metadata": {},
   "source": [
    "---"
   ]
  },
  {
   "cell_type": "markdown",
   "metadata": {},
   "source": [
    "## 2. 앞의 표를 바탕으로 표준화 데이터를 만들고, 평균과 분산 구하기"
   ]
  },
  {
   "cell_type": "code",
   "execution_count": 52,
   "metadata": {
    "scrolled": false
   },
   "outputs": [],
   "source": [
    "import pandas as pd\n",
    "import csv\n",
    "\n",
    "f = open('ex01.csv', 'r', encoding='utf-8')\n",
    "data = csv.reader(f)\n",
    "df = pd.DataFrame(list(data))\n",
    "\n",
    "for i in range(0,12):\n",
    "    df[1][i]"
   ]
  }
 ],
 "metadata": {
  "kernelspec": {
   "display_name": "Python 3",
   "language": "python",
   "name": "python3"
  },
  "language_info": {
   "codemirror_mode": {
    "name": "ipython",
    "version": 3
   },
   "file_extension": ".py",
   "mimetype": "text/x-python",
   "name": "python",
   "nbconvert_exporter": "python",
   "pygments_lexer": "ipython3",
   "version": "3.6.5"
  }
 },
 "nbformat": 4,
 "nbformat_minor": 5
}
