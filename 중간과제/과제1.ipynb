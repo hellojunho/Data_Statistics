{
 "cells": [
  {
   "cell_type": "markdown",
   "id": "a680ecc2",
   "metadata": {},
   "source": [
    "## 1-1) 각각의 데이터에서 신장과 체중의 평균 구하기"
   ]
  },
  {
   "cell_type": "markdown",
   "id": "b4251f57",
   "metadata": {},
   "source": [
    "### 원 데이터의 신장과 체중의 평균값"
   ]
  },
  {
   "cell_type": "code",
   "execution_count": 74,
   "id": "9b7ff680",
   "metadata": {},
   "outputs": [
    {
     "name": "stdout",
     "output_type": "stream",
     "text": [
      "원 데이터 신장(X1)의 평균값 :  167.451\n",
      "원 데이터 체중(X2)의 평균값 :  65.9154\n"
     ]
    }
   ],
   "source": [
    "import pandas as pd\n",
    "import csv\n",
    "\n",
    "f = open('ex01.csv', 'r', encoding='utf-8')\n",
    "data = csv.reader(f)\n",
    "header=next(data)\n",
    "header=next(data)\n",
    "df = pd.DataFrame(list(data))\n",
    "\n",
    "sum_height = 0 # 신장 전체 합\n",
    "sum_weight = 0 # 체중 전체 합\n",
    "\n",
    "# 신장 평균 구하기\n",
    "for i in range(0, 12):\n",
    "    df[1][i] = float(df[1][i]) # 데이터 실수화\n",
    "    sum_height += df[1][i]\n",
    "    \n",
    "avg_height = round(sum_height / 12, 4) # 신장 평균\n",
    "\n",
    "# 체중 평균 구하기\n",
    "for i in range(0, 12):\n",
    "    df[2][i] = float(df[2][i]) # 데이터 실수화\n",
    "    sum_weight += df[2][i]\n",
    "    \n",
    "avg_weight = round(sum_weight / 12, 4)\n",
    "\n",
    "print(\"원 데이터 신장(X1)의 평균값 : \", avg_height) # 신장 평균값 출력\n",
    "print(\"원 데이터 체중(X2)의 평균값 : \", avg_weight) # 체중 평균값 출력"
   ]
  },
  {
   "cell_type": "markdown",
   "id": "83cfa472",
   "metadata": {},
   "source": [
    "### 평균보정 데이터의 신장과 체중의 평균값"
   ]
  },
  {
   "cell_type": "code",
   "execution_count": 75,
   "id": "17abcc3a",
   "metadata": {
    "scrolled": true
   },
   "outputs": [
    {
     "name": "stdout",
     "output_type": "stream",
     "text": [
      "평균보정 데이터 신장(X1)의 평균값 :  0.0\n",
      "평균보정 데이터 체중(X2)의 평균값 :  -0.0\n"
     ]
    }
   ],
   "source": [
    "import pandas as pd\n",
    "import csv\n",
    "\n",
    "f = open('ex01.csv', 'r', encoding='utf-8')\n",
    "data = csv.reader(f)\n",
    "header=next(data)\n",
    "header=next(data)\n",
    "df = pd.DataFrame(list(data))\n",
    "\n",
    "sum_height = 0 # 신장 전체 합\n",
    "sum_weight = 0 # 체중 전체 합\n",
    "\n",
    "# 신장 평균 구하기\n",
    "for i in range(0, 12):\n",
    "    df[3][i] = float(df[3][i]) # 데이터 실수화\n",
    "    sum_height += df[3][i]\n",
    "    \n",
    "avg_height = round(sum_height / 12, 4) # 신장 평균\n",
    "\n",
    "# 체중 평균 구하기\n",
    "for i in range(0, 12):\n",
    "    df[4][i] = float(df[4][i]) # 데이터 실수화\n",
    "    sum_weight += df[4][i]\n",
    "    \n",
    "avg_weight = round(sum_weight / 12, 4)\n",
    "\n",
    "print(\"평균보정 데이터 신장(X1)의 평균값 : \", avg_height) # 신장 평균값 출력\n",
    "print(\"평균보정 데이터 체중(X2)의 평균값 : \", avg_weight) # 체중 평균값 출력"
   ]
  },
  {
   "cell_type": "markdown",
   "id": "f247f247",
   "metadata": {},
   "source": [
    "---"
   ]
  },
  {
   "cell_type": "markdown",
   "id": "4653fd34",
   "metadata": {},
   "source": [
    "## 1-2) 각각의 데이터에서 신장과 체중의 분산 구하기"
   ]
  },
  {
   "cell_type": "markdown",
   "id": "29f05afb",
   "metadata": {},
   "source": [
    "### 1-1 에서 구한 평균값"
   ]
  },
  {
   "cell_type": "code",
   "execution_count": 76,
   "id": "5498488d",
   "metadata": {
    "scrolled": true
   },
   "outputs": [
    {
     "name": "stdout",
     "output_type": "stream",
     "text": [
      "원 데이터 신장(X1)의 평균값 :  167.451\n",
      "원 데이터 체중(X2)의 평균값 :  65.9154\n",
      "평균보정 데이터 신장(X1)의 평균값 :  0.0\n",
      "평균보정 데이터 체중(X2)의 평균값 :  -0.0\n"
     ]
    }
   ],
   "source": [
    "import pandas as pd\n",
    "import csv\n",
    "import numpy as np\n",
    "\n",
    "f = open('ex01.csv', 'r', encoding='utf-8')\n",
    "data = csv.reader(f)\n",
    "header=next(data)\n",
    "header=next(data)\n",
    "df = pd.DataFrame(list(data))\n",
    "\n",
    "sum_height = 0 # 신장 전체 합\n",
    "sum_weight = 0 # 체중 전체 합\n",
    "\n",
    "### 원데이터 ###\n",
    "\n",
    "# 신장 평균 구하기\n",
    "for i in range(0, 12):\n",
    "    df[1][i] = float(df[1][i]) # 데이터 실수화\n",
    "    sum_height += df[1][i]\n",
    "    \n",
    "avg_height = round(sum_height / 12, 4) # 신장 평균\n",
    "\n",
    "# 체중 평균 구하기\n",
    "for i in range(0, 12):\n",
    "    df[2][i] = float(df[2][i]) # 데이터 실수화\n",
    "    sum_weight += df[2][i]\n",
    "    \n",
    "avg_weight = round(sum_weight / 12, 4)\n",
    "\n",
    "### 평균보정 데이터 ###\n",
    "\n",
    "sum_height2 = 0 # 신장 전체 합\n",
    "sum_weight2 = 0 # 체중 전체 합\n",
    "\n",
    "# 신장 평균 구하기\n",
    "for i in range(0, 12):\n",
    "    df[3][i] = float(df[3][i]) # 데이터 실수화\n",
    "    sum_height2 += df[3][i]\n",
    "    \n",
    "avg_height2 = round(sum_height2 / 12, 4) # 신장 평균\n",
    "\n",
    "# 체중 평균 구하기\n",
    "for i in range(0, 12):\n",
    "    df[4][i] = float(df[4][i]) # 데이터 실수화\n",
    "    sum_weight2 += df[4][i]\n",
    "    \n",
    "avg_weight2 = round(sum_weight2 / 12, 4)\n",
    "\n",
    "print(\"원 데이터 신장(X1)의 평균값 : \", avg_height) # 신장 평균값 출력\n",
    "print(\"원 데이터 체중(X2)의 평균값 : \", avg_weight) # 체중 평균값 출력\n",
    "print(\"평균보정 데이터 신장(X1)의 평균값 : \", avg_height2) # 신장 평균값 출력\n",
    "print(\"평균보정 데이터 체중(X2)의 평균값 : \", avg_weight2) # 체중 평균값 출력"
   ]
  },
  {
   "cell_type": "markdown",
   "id": "b01e8e3f",
   "metadata": {},
   "source": [
    "### 원 데이터의 분산"
   ]
  },
  {
   "cell_type": "code",
   "execution_count": 77,
   "id": "d1ff45c3",
   "metadata": {
    "scrolled": true
   },
   "outputs": [
    {
     "name": "stdout",
     "output_type": "stream",
     "text": [
      "원 데이터 신장(X1)의 분산 :  82.8687\n",
      "원 데이터 체중(X2)의 분산 :  113.7014\n"
     ]
    }
   ],
   "source": [
    "### 원 데이터 ###\n",
    "\n",
    "vsum_height = 0 # 신장 데이터의 분산 구하기 위한 합\n",
    "for i in range(0, 12):\n",
    "    vsum_height += (df[1][i] - avg_height)**2\n",
    "    \n",
    "vavg_height = round(vsum_height / 12, 4) # 신장 데이터의 분산\n",
    "\n",
    "vsum_weight = 0 # 체중 데이터의 분산 구하기 위한 합\n",
    "for i in range(0, 12):\n",
    "    vsum_weight += (df[2][i] - avg_weight)**2\n",
    "    \n",
    "vavg_weight = round(vsum_weight / 12, 4) # 체중 데이터의 분산\n",
    "\n",
    "print(\"원 데이터 신장(X1)의 분산 : \", vavg_height)\n",
    "print(\"원 데이터 체중(X2)의 분산 : \", vavg_weight)"
   ]
  },
  {
   "cell_type": "markdown",
   "id": "964163f5",
   "metadata": {},
   "source": [
    "### 평균보정 데이터의 분산"
   ]
  },
  {
   "cell_type": "code",
   "execution_count": 78,
   "id": "d21827d9",
   "metadata": {},
   "outputs": [
    {
     "name": "stdout",
     "output_type": "stream",
     "text": [
      "평균보정 데이터 신장(X1)의 분산 :  82.8687\n",
      "평균보정 데이터 체중(X2)의 분산 :  113.7012\n"
     ]
    }
   ],
   "source": [
    "### 평균보정 데이터 ###\n",
    "\n",
    "vsum_height2 = 0 # 신장 데이터의 분산 구하기 위한 합\n",
    "for i in range(0, 12):\n",
    "    vsum_height2 += (df[3][i] - avg_height2)**2\n",
    "    \n",
    "vavg_height2 = round(vsum_height2 / 12, 4) # 신장 데이터의 분산\n",
    "\n",
    "vsum_weight2 = 0 # 체중 데이터의 분산 구하기 위한 합\n",
    "for i in range(0, 12):\n",
    "    vsum_weight2 += (df[4][i] - avg_weight2)**2\n",
    "    \n",
    "vavg_weight2 = round(vsum_weight2 / 12, 4) # 체중 데이터의 분산\n",
    "\n",
    "print(\"평균보정 데이터 신장(X1)의 분산 : \", vavg_height2)\n",
    "print(\"평균보정 데이터 체중(X2)의 분산 : \", vavg_weight2)"
   ]
  },
  {
   "cell_type": "markdown",
   "id": "c55a29be",
   "metadata": {},
   "source": [
    "---"
   ]
  },
  {
   "cell_type": "markdown",
   "id": "851d7908",
   "metadata": {},
   "source": [
    "## 1-3) 두 가지 데이터에 대해 평균과 분산의 차이 비교\n",
    "\n",
    "1. 원 데이터와 평균보정 데이터의 평균 값은 다르게 나온다. 먼저, 원 데이터의 평균은 우리가 흔히 구하는 산술평균의 값이 나왔다. 반면에, 평균보정 데이터의 평균값은 0.0으로 신장과 체중의 평균이 모두 동일하게 나온 것으로 보아, 평균보정이라는 말의 의미가 편차를 의미하는 것이라고 생각이 든다.\n",
    "---\n",
    "2. 분산을 비교해 보았을 때, 원 데이터와 평균보정 데이터의 분산이 동일하게 나왔다. 분산은 (값 - 평균)^2 의 합이다. 이를 보아 두 데이터의 분산이 같은 이유는 (평균보정 데이터 - 평균보정 데이터 평균)^2 == (원 데이터 - 원 데이터 평균)^2 이므로, 1번에서 생각한대로 평균보정이라는 말이 원 데이터 - 원 데이터 평균 임을 추측할 수 있다."
   ]
  },
  {
   "cell_type": "markdown",
   "id": "f8e88a18",
   "metadata": {},
   "source": [
    "---"
   ]
  },
  {
   "cell_type": "markdown",
   "id": "816b1252",
   "metadata": {},
   "source": [
    "## 2. 앞의 표를 바탕으로 표준화 데이터를 만들고, 평균과 분산 구하기"
   ]
  },
  {
   "cell_type": "markdown",
   "id": "0772aa41",
   "metadata": {},
   "source": [
    "#### 데이터 표준화\n",
    "- 상대적 결과를 통일된 지표로 변환하는 정규화 과정\n",
    "- 표준화 데이터(Z) = (데이터 - 평균) / 표준편차(S)"
   ]
  },
  {
   "cell_type": "markdown",
   "id": "6f26dba8",
   "metadata": {},
   "source": [
    "### 표준화 데이터 (z_data) 구하기"
   ]
  },
  {
   "cell_type": "code",
   "execution_count": 202,
   "id": "aac28879",
   "metadata": {
    "scrolled": false
   },
   "outputs": [
    {
     "data": {
      "text/html": [
       "<div>\n",
       "<style scoped>\n",
       "    .dataframe tbody tr th:only-of-type {\n",
       "        vertical-align: middle;\n",
       "    }\n",
       "\n",
       "    .dataframe tbody tr th {\n",
       "        vertical-align: top;\n",
       "    }\n",
       "\n",
       "    .dataframe thead th {\n",
       "        text-align: right;\n",
       "    }\n",
       "</style>\n",
       "<table border=\"1\" class=\"dataframe\">\n",
       "  <thead>\n",
       "    <tr style=\"text-align: right;\">\n",
       "      <th></th>\n",
       "      <th>0</th>\n",
       "      <th>1</th>\n",
       "      <th>2</th>\n",
       "      <th>3</th>\n",
       "      <th>4</th>\n",
       "    </tr>\n",
       "  </thead>\n",
       "  <tbody>\n",
       "    <tr>\n",
       "      <th>0</th>\n",
       "      <td>1</td>\n",
       "      <td>166.1732</td>\n",
       "      <td>55.6023</td>\n",
       "      <td>-1.2778</td>\n",
       "      <td>-10.313</td>\n",
       "    </tr>\n",
       "    <tr>\n",
       "      <th>1</th>\n",
       "      <td>2</td>\n",
       "      <td>186.7266</td>\n",
       "      <td>87.3961</td>\n",
       "      <td>19.2756</td>\n",
       "      <td>21.4807</td>\n",
       "    </tr>\n",
       "    <tr>\n",
       "      <th>2</th>\n",
       "      <td>3</td>\n",
       "      <td>159.2694</td>\n",
       "      <td>55.2475</td>\n",
       "      <td>-8.1816</td>\n",
       "      <td>-10.6679</td>\n",
       "    </tr>\n",
       "    <tr>\n",
       "      <th>3</th>\n",
       "      <td>4</td>\n",
       "      <td>174.4309</td>\n",
       "      <td>71.6564</td>\n",
       "      <td>6.9799</td>\n",
       "      <td>5.741</td>\n",
       "    </tr>\n",
       "    <tr>\n",
       "      <th>4</th>\n",
       "      <td>5</td>\n",
       "      <td>172.2638</td>\n",
       "      <td>65.7194</td>\n",
       "      <td>4.8128</td>\n",
       "      <td>-0.1959</td>\n",
       "    </tr>\n",
       "    <tr>\n",
       "      <th>5</th>\n",
       "      <td>6</td>\n",
       "      <td>148.988</td>\n",
       "      <td>53.0763</td>\n",
       "      <td>-18.463</td>\n",
       "      <td>-12.8391</td>\n",
       "    </tr>\n",
       "    <tr>\n",
       "      <th>6</th>\n",
       "      <td>7</td>\n",
       "      <td>159.2009</td>\n",
       "      <td>48.4501</td>\n",
       "      <td>-8.2501</td>\n",
       "      <td>-17.4653</td>\n",
       "    </tr>\n",
       "    <tr>\n",
       "      <th>7</th>\n",
       "      <td>8</td>\n",
       "      <td>171.779</td>\n",
       "      <td>70.6938</td>\n",
       "      <td>4.328</td>\n",
       "      <td>4.77839</td>\n",
       "    </tr>\n",
       "    <tr>\n",
       "      <th>8</th>\n",
       "      <td>9</td>\n",
       "      <td>163.1725</td>\n",
       "      <td>64.6079</td>\n",
       "      <td>-4.2785</td>\n",
       "      <td>-1.3075</td>\n",
       "    </tr>\n",
       "    <tr>\n",
       "      <th>9</th>\n",
       "      <td>10</td>\n",
       "      <td>165.4728</td>\n",
       "      <td>71.5016</td>\n",
       "      <td>-1.9782</td>\n",
       "      <td>5.5862</td>\n",
       "    </tr>\n",
       "    <tr>\n",
       "      <th>10</th>\n",
       "      <td>11</td>\n",
       "      <td>172.9416</td>\n",
       "      <td>71.4369</td>\n",
       "      <td>5.4906</td>\n",
       "      <td>5.5215</td>\n",
       "    </tr>\n",
       "    <tr>\n",
       "      <th>11</th>\n",
       "      <td>12</td>\n",
       "      <td>168.9933</td>\n",
       "      <td>75.5963</td>\n",
       "      <td>1.5423</td>\n",
       "      <td>9.6809</td>\n",
       "    </tr>\n",
       "  </tbody>\n",
       "</table>\n",
       "</div>"
      ],
      "text/plain": [
       "     0         1        2        3         4\n",
       "0    1  166.1732  55.6023  -1.2778   -10.313\n",
       "1    2  186.7266  87.3961  19.2756   21.4807\n",
       "2    3  159.2694  55.2475  -8.1816  -10.6679\n",
       "3    4  174.4309  71.6564   6.9799     5.741\n",
       "4    5  172.2638  65.7194   4.8128   -0.1959\n",
       "5    6   148.988  53.0763  -18.463  -12.8391\n",
       "6    7  159.2009  48.4501  -8.2501  -17.4653\n",
       "7    8   171.779  70.6938    4.328   4.77839\n",
       "8    9  163.1725  64.6079  -4.2785   -1.3075\n",
       "9   10  165.4728  71.5016  -1.9782    5.5862\n",
       "10  11  172.9416  71.4369   5.4906    5.5215\n",
       "11  12  168.9933  75.5963   1.5423    9.6809"
      ]
     },
     "execution_count": 202,
     "metadata": {},
     "output_type": "execute_result"
    }
   ],
   "source": [
    "import pandas as pd\n",
    "import csv\n",
    "import numpy as np\n",
    "\n",
    "f = open('ex01.csv', 'r', encoding='utf-8')\n",
    "data = csv.reader(f)\n",
    "header=next(data)\n",
    "header=next(data)\n",
    "df = pd.DataFrame(list(data))\n",
    "\n",
    "sigma_height = round(np.sqrt(vavg_height), 4) # 신장 표준편차\n",
    "sigma_weight = round(np.sqrt(vavg_weight), 4) # 체중 표준편차\n",
    "\n",
    "# print(\"신장의 평균 값 : \", avg_height)\n",
    "# print(\"체중의 평균 값 : \", avg_weight)\n",
    "\n",
    "# print(\"신장의 분산 값 : \", vavg_height)\n",
    "# print(\"체중의 분산 값 : \", vavg_weight)\n",
    "\n",
    "# print(\"신장의 표준편차 : \", sigma_height)\n",
    "# print(\"체중의 표준편차 : \", sigma_weight)\n",
    "\n",
    "df"
   ]
  },
  {
   "cell_type": "code",
   "execution_count": 203,
   "id": "8787c97f",
   "metadata": {},
   "outputs": [
    {
     "data": {
      "text/html": [
       "<div>\n",
       "<style scoped>\n",
       "    .dataframe tbody tr th:only-of-type {\n",
       "        vertical-align: middle;\n",
       "    }\n",
       "\n",
       "    .dataframe tbody tr th {\n",
       "        vertical-align: top;\n",
       "    }\n",
       "\n",
       "    .dataframe thead th {\n",
       "        text-align: right;\n",
       "    }\n",
       "</style>\n",
       "<table border=\"1\" class=\"dataframe\">\n",
       "  <thead>\n",
       "    <tr style=\"text-align: right;\">\n",
       "      <th></th>\n",
       "      <th>0</th>\n",
       "      <th>1</th>\n",
       "      <th>2</th>\n",
       "      <th>3</th>\n",
       "      <th>4</th>\n",
       "    </tr>\n",
       "  </thead>\n",
       "  <tbody>\n",
       "    <tr>\n",
       "      <th>0</th>\n",
       "      <td>1</td>\n",
       "      <td>166.1732</td>\n",
       "      <td>55.6023</td>\n",
       "      <td>-1.2778</td>\n",
       "      <td>-10.313</td>\n",
       "    </tr>\n",
       "    <tr>\n",
       "      <th>1</th>\n",
       "      <td>2</td>\n",
       "      <td>186.7266</td>\n",
       "      <td>87.3961</td>\n",
       "      <td>19.2756</td>\n",
       "      <td>21.4807</td>\n",
       "    </tr>\n",
       "    <tr>\n",
       "      <th>2</th>\n",
       "      <td>3</td>\n",
       "      <td>159.2694</td>\n",
       "      <td>55.2475</td>\n",
       "      <td>-8.1816</td>\n",
       "      <td>-10.6679</td>\n",
       "    </tr>\n",
       "    <tr>\n",
       "      <th>3</th>\n",
       "      <td>4</td>\n",
       "      <td>174.4309</td>\n",
       "      <td>71.6564</td>\n",
       "      <td>6.9799</td>\n",
       "      <td>5.741</td>\n",
       "    </tr>\n",
       "    <tr>\n",
       "      <th>4</th>\n",
       "      <td>5</td>\n",
       "      <td>172.2638</td>\n",
       "      <td>65.7194</td>\n",
       "      <td>4.8128</td>\n",
       "      <td>-0.1959</td>\n",
       "    </tr>\n",
       "    <tr>\n",
       "      <th>5</th>\n",
       "      <td>6</td>\n",
       "      <td>148.988</td>\n",
       "      <td>53.0763</td>\n",
       "      <td>-18.463</td>\n",
       "      <td>-12.8391</td>\n",
       "    </tr>\n",
       "    <tr>\n",
       "      <th>6</th>\n",
       "      <td>7</td>\n",
       "      <td>159.2009</td>\n",
       "      <td>48.4501</td>\n",
       "      <td>-8.2501</td>\n",
       "      <td>-17.4653</td>\n",
       "    </tr>\n",
       "    <tr>\n",
       "      <th>7</th>\n",
       "      <td>8</td>\n",
       "      <td>171.779</td>\n",
       "      <td>70.6938</td>\n",
       "      <td>4.328</td>\n",
       "      <td>4.7784</td>\n",
       "    </tr>\n",
       "    <tr>\n",
       "      <th>8</th>\n",
       "      <td>9</td>\n",
       "      <td>163.1725</td>\n",
       "      <td>64.6079</td>\n",
       "      <td>-4.2785</td>\n",
       "      <td>-1.3075</td>\n",
       "    </tr>\n",
       "    <tr>\n",
       "      <th>9</th>\n",
       "      <td>10</td>\n",
       "      <td>165.4728</td>\n",
       "      <td>71.5016</td>\n",
       "      <td>-1.9782</td>\n",
       "      <td>5.5862</td>\n",
       "    </tr>\n",
       "    <tr>\n",
       "      <th>10</th>\n",
       "      <td>11</td>\n",
       "      <td>172.9416</td>\n",
       "      <td>71.4369</td>\n",
       "      <td>5.4906</td>\n",
       "      <td>5.5215</td>\n",
       "    </tr>\n",
       "    <tr>\n",
       "      <th>11</th>\n",
       "      <td>12</td>\n",
       "      <td>168.9933</td>\n",
       "      <td>75.5963</td>\n",
       "      <td>1.5423</td>\n",
       "      <td>9.6809</td>\n",
       "    </tr>\n",
       "  </tbody>\n",
       "</table>\n",
       "</div>"
      ],
      "text/plain": [
       "     0         1        2        3        4\n",
       "0    1  166.1732  55.6023  -1.2778  -10.313\n",
       "1    2  186.7266  87.3961  19.2756  21.4807\n",
       "2    3  159.2694  55.2475  -8.1816 -10.6679\n",
       "3    4  174.4309  71.6564   6.9799    5.741\n",
       "4    5  172.2638  65.7194   4.8128  -0.1959\n",
       "5    6   148.988  53.0763  -18.463 -12.8391\n",
       "6    7  159.2009  48.4501  -8.2501 -17.4653\n",
       "7    8   171.779  70.6938    4.328   4.7784\n",
       "8    9  163.1725  64.6079  -4.2785  -1.3075\n",
       "9   10  165.4728  71.5016  -1.9782   5.5862\n",
       "10  11  172.9416  71.4369   5.4906   5.5215\n",
       "11  12  168.9933  75.5963   1.5423   9.6809"
      ]
     },
     "execution_count": 203,
     "metadata": {},
     "output_type": "execute_result"
    }
   ],
   "source": [
    "# ex01.csv의 데이터 실수화\n",
    "for i in range(1, 5):\n",
    "    for j in range(0, 12):\n",
    "        df[i][j] = round(float(df[i][j]), 4)\n",
    "df"
   ]
  },
  {
   "cell_type": "code",
   "execution_count": 204,
   "id": "fe36e705",
   "metadata": {},
   "outputs": [],
   "source": [
    " # 표준화 데이터를 z_data.csv로 새로 저장\n",
    "for i in range(0, 12):\n",
    "    df[1][i] = (df[1][i] - avg_height)/sigma_height\n",
    "    df[2][i] = (df[2][i] - avg_weight)/sigma_weight\n",
    "    df[3][i] = (df[3][i] - avg_height2)/sigma_height\n",
    "    df[4][i] = (df[4][i] - avg_weight2)/sigma_weight\n",
    "df.to_csv('z_data.csv', encoding='utf-8', index=False)"
   ]
  },
  {
   "cell_type": "code",
   "execution_count": 211,
   "id": "ce09c9b8",
   "metadata": {},
   "outputs": [
    {
     "data": {
      "text/html": [
       "<div>\n",
       "<style scoped>\n",
       "    .dataframe tbody tr th:only-of-type {\n",
       "        vertical-align: middle;\n",
       "    }\n",
       "\n",
       "    .dataframe tbody tr th {\n",
       "        vertical-align: top;\n",
       "    }\n",
       "\n",
       "    .dataframe thead th {\n",
       "        text-align: right;\n",
       "    }\n",
       "</style>\n",
       "<table border=\"1\" class=\"dataframe\">\n",
       "  <thead>\n",
       "    <tr style=\"text-align: right;\">\n",
       "      <th></th>\n",
       "      <th>0</th>\n",
       "      <th>1</th>\n",
       "      <th>2</th>\n",
       "      <th>3</th>\n",
       "      <th>4</th>\n",
       "    </tr>\n",
       "  </thead>\n",
       "  <tbody>\n",
       "    <tr>\n",
       "      <th>0</th>\n",
       "      <td>1</td>\n",
       "      <td>-0.1404</td>\n",
       "      <td>-0.9672</td>\n",
       "      <td>-0.1404</td>\n",
       "      <td>-0.9672</td>\n",
       "    </tr>\n",
       "    <tr>\n",
       "      <th>1</th>\n",
       "      <td>2</td>\n",
       "      <td>2.1175</td>\n",
       "      <td>2.0145</td>\n",
       "      <td>2.1175</td>\n",
       "      <td>2.0145</td>\n",
       "    </tr>\n",
       "    <tr>\n",
       "      <th>2</th>\n",
       "      <td>3</td>\n",
       "      <td>-0.8988</td>\n",
       "      <td>-1.0005</td>\n",
       "      <td>-0.8988</td>\n",
       "      <td>-1.0005</td>\n",
       "    </tr>\n",
       "    <tr>\n",
       "      <th>3</th>\n",
       "      <td>4</td>\n",
       "      <td>0.7668</td>\n",
       "      <td>0.5384</td>\n",
       "      <td>0.7668</td>\n",
       "      <td>0.5384</td>\n",
       "    </tr>\n",
       "    <tr>\n",
       "      <th>4</th>\n",
       "      <td>5</td>\n",
       "      <td>0.5287</td>\n",
       "      <td>-0.0184</td>\n",
       "      <td>0.5287</td>\n",
       "      <td>-0.0184</td>\n",
       "    </tr>\n",
       "    <tr>\n",
       "      <th>5</th>\n",
       "      <td>6</td>\n",
       "      <td>-2.0282</td>\n",
       "      <td>-1.2041</td>\n",
       "      <td>-2.0282</td>\n",
       "      <td>-1.2041</td>\n",
       "    </tr>\n",
       "    <tr>\n",
       "      <th>6</th>\n",
       "      <td>7</td>\n",
       "      <td>-0.9063</td>\n",
       "      <td>-1.6379</td>\n",
       "      <td>-0.9063</td>\n",
       "      <td>-1.6379</td>\n",
       "    </tr>\n",
       "    <tr>\n",
       "      <th>7</th>\n",
       "      <td>8</td>\n",
       "      <td>0.4754</td>\n",
       "      <td>0.4481</td>\n",
       "      <td>0.4754</td>\n",
       "      <td>0.4481</td>\n",
       "    </tr>\n",
       "    <tr>\n",
       "      <th>8</th>\n",
       "      <td>9</td>\n",
       "      <td>-0.47</td>\n",
       "      <td>-0.1226</td>\n",
       "      <td>-0.47</td>\n",
       "      <td>-0.1226</td>\n",
       "    </tr>\n",
       "    <tr>\n",
       "      <th>9</th>\n",
       "      <td>10</td>\n",
       "      <td>-0.2173</td>\n",
       "      <td>0.5239</td>\n",
       "      <td>-0.2173</td>\n",
       "      <td>0.5239</td>\n",
       "    </tr>\n",
       "    <tr>\n",
       "      <th>10</th>\n",
       "      <td>11</td>\n",
       "      <td>0.6032</td>\n",
       "      <td>0.5178</td>\n",
       "      <td>0.6032</td>\n",
       "      <td>0.5178</td>\n",
       "    </tr>\n",
       "    <tr>\n",
       "      <th>11</th>\n",
       "      <td>12</td>\n",
       "      <td>0.1694</td>\n",
       "      <td>0.9079</td>\n",
       "      <td>0.1694</td>\n",
       "      <td>0.9079</td>\n",
       "    </tr>\n",
       "  </tbody>\n",
       "</table>\n",
       "</div>"
      ],
      "text/plain": [
       "     0       1       2       3       4\n",
       "0    1 -0.1404 -0.9672 -0.1404 -0.9672\n",
       "1    2  2.1175  2.0145  2.1175  2.0145\n",
       "2    3 -0.8988 -1.0005 -0.8988 -1.0005\n",
       "3    4  0.7668  0.5384  0.7668  0.5384\n",
       "4    5  0.5287 -0.0184  0.5287 -0.0184\n",
       "5    6 -2.0282 -1.2041 -2.0282 -1.2041\n",
       "6    7 -0.9063 -1.6379 -0.9063 -1.6379\n",
       "7    8  0.4754  0.4481  0.4754  0.4481\n",
       "8    9   -0.47 -0.1226   -0.47 -0.1226\n",
       "9   10 -0.2173  0.5239 -0.2173  0.5239\n",
       "10  11  0.6032  0.5178  0.6032  0.5178\n",
       "11  12  0.1694  0.9079  0.1694  0.9079"
      ]
     },
     "execution_count": 211,
     "metadata": {},
     "output_type": "execute_result"
    }
   ],
   "source": [
    "# 표준화 데이터 출력\n",
    "import pandas as pd\n",
    "import csv\n",
    "import numpy as np\n",
    "\n",
    "f = open('z_data.csv', 'r', encoding='utf-8')\n",
    "data = csv.reader(f)\n",
    "header=next(data)\n",
    "df = pd.DataFrame(list(data))\n",
    "\n",
    "for i in range(1, 5):\n",
    "    for j in range(0, 12):\n",
    "        df[i][j] = round(float(df[i][j]), 4)\n",
    "        \n",
    "df"
   ]
  },
  {
   "cell_type": "markdown",
   "id": "3269df57",
   "metadata": {},
   "source": [
    "### 표준화 데이터 (z_data)에 대한 평균과 분산 계산하기"
   ]
  },
  {
   "cell_type": "markdown",
   "id": "3d51662c",
   "metadata": {},
   "source": [
    "#### 평균"
   ]
  },
  {
   "cell_type": "code",
   "execution_count": 223,
   "id": "78c6531a",
   "metadata": {},
   "outputs": [
    {
     "name": "stdout",
     "output_type": "stream",
     "text": [
      "원데이터 X1의 표준화 데이터의 평균 값 :  0.0\n"
     ]
    }
   ],
   "source": [
    "# 원데이터 X1 평균\n",
    "\n",
    "sum = 0\n",
    "\n",
    "for i in range(0, 12):\n",
    "    sum += df[1][i]\n",
    "z_avg_height = round(sum/12, 4)\n",
    "print(\"원데이터 X1의 표준화 데이터의 평균 값 : \", z_avg_height)"
   ]
  },
  {
   "cell_type": "code",
   "execution_count": 225,
   "id": "c473ac1b",
   "metadata": {},
   "outputs": [
    {
     "name": "stdout",
     "output_type": "stream",
     "text": [
      "원데이터 X2의 표준화 데이터의 평균 값 :  -0.0\n"
     ]
    }
   ],
   "source": [
    "# 원데이터 X2 평균\n",
    "\n",
    "sum2 = 0\n",
    "\n",
    "for i in range(0, 12):\n",
    "    sum2 += df[2][i]\n",
    "z_avg_weight = round(sum2/12, 4)\n",
    "print(\"원데이터 X2의 표준화 데이터의 평균 값 : \", z_avg_weight)"
   ]
  },
  {
   "cell_type": "code",
   "execution_count": 226,
   "id": "b84d21d1",
   "metadata": {},
   "outputs": [
    {
     "name": "stdout",
     "output_type": "stream",
     "text": [
      "원데이터 X1의 표준화 데이터의 평균 값 :  0.0\n"
     ]
    }
   ],
   "source": [
    "# 표준화데이터 X1 평균\n",
    "\n",
    "sum3 = 0\n",
    "\n",
    "for i in range(0, 12):\n",
    "    sum3 += df[3][i]\n",
    "z_avg_height2 = round(sum3/12, 4)\n",
    "print(\"평균보정 데이터 X1의 표준화 데이터의 평균 값 : \", z_avg_height2)"
   ]
  },
  {
   "cell_type": "code",
   "execution_count": 228,
   "id": "9e70af41",
   "metadata": {},
   "outputs": [
    {
     "name": "stdout",
     "output_type": "stream",
     "text": [
      "원데이터 X1의 표준화 데이터의 평균 값 :  -0.0\n"
     ]
    }
   ],
   "source": [
    "# 표준화데이터 X2 평균\n",
    "\n",
    "sum4 = 0\n",
    "\n",
    "for i in range(0, 12):\n",
    "    sum4 += df[4][i]\n",
    "z_avg_weight2 = round(sum4/12, 4)\n",
    "print(\"평균보정 데이터 X1의 표준화 데이터의 평균 값 : \", z_avg_weight2)"
   ]
  },
  {
   "cell_type": "markdown",
   "id": "c9f7e4bd",
   "metadata": {},
   "source": [
    "#### 분산\n",
    "- 분산 = 편차 제곱의 평균"
   ]
  },
  {
   "cell_type": "code",
   "execution_count": 231,
   "id": "81a51266",
   "metadata": {},
   "outputs": [
    {
     "name": "stdout",
     "output_type": "stream",
     "text": [
      "원데이터 X1의 표준화데이터의 분산 :  1.0\n"
     ]
    }
   ],
   "source": [
    "# 원데이터 X1의 분산\n",
    "vsum = 0\n",
    "for i in range(0, 12):\n",
    "    vsum += (df[1][i] - z_avg_height)**2\n",
    "    \n",
    "z_vavg_height = round(vsum/12, 4)\n",
    "print(\"원데이터 X1의 표준화데이터의 분산 : \", z_vavg_height)"
   ]
  },
  {
   "cell_type": "code",
   "execution_count": 233,
   "id": "ddbd28f5",
   "metadata": {},
   "outputs": [
    {
     "name": "stdout",
     "output_type": "stream",
     "text": [
      "원데이터 X2의 표준화데이터의 분산 :  1.0\n"
     ]
    }
   ],
   "source": [
    "# 원데이터 X2의 분산\n",
    "vsum2 = 0\n",
    "for i in range(0, 12):\n",
    "    vsum2 += (df[2][i] - z_avg_weight)**2\n",
    "    \n",
    "z_vavg_weight = round(vsum2/12, 4)\n",
    "print(\"원데이터 X2의 표준화데이터의 분산 : \", z_vavg_weight)"
   ]
  },
  {
   "cell_type": "code",
   "execution_count": 238,
   "id": "18dcd301",
   "metadata": {},
   "outputs": [
    {
     "name": "stdout",
     "output_type": "stream",
     "text": [
      "평균보정 데이터 X1의 표준화데이터의 분산 :  1.0\n"
     ]
    }
   ],
   "source": [
    "# 평균보정 데이터 X1의 분산\n",
    "vsum3 = 0\n",
    "for i in range(0, 12):\n",
    "    vsum3 += (df[3][i] - z_avg_height2)**2\n",
    "    \n",
    "z_vavg_height2 = round(vsum3/12, 4)\n",
    "print(\"평균보정 데이터 X1의 표준화데이터의 분산 : \", z_vavg_height2)"
   ]
  },
  {
   "cell_type": "code",
   "execution_count": 237,
   "id": "89ca74e2",
   "metadata": {
    "scrolled": true
   },
   "outputs": [
    {
     "name": "stdout",
     "output_type": "stream",
     "text": [
      "평균보정 데이터 X2의 표준화데이터의 분산 :  1.0\n"
     ]
    }
   ],
   "source": [
    "# 평균보정 데이터 X2의 분산\n",
    "vsum4 = 0\n",
    "for i in range(0, 12):\n",
    "    vsum4 += (df[4][i] - z_avg_weight2)**2\n",
    "    \n",
    "z_vavg_weight2 = round(vsum4/12, 4)\n",
    "print(\"평균보정 데이터 X2의 표준화데이터의 분산 : \", z_vavg_weight2)"
   ]
  },
  {
   "cell_type": "markdown",
   "id": "5a7abc09",
   "metadata": {},
   "source": [
    "## 앞의 표를 바탕으로 신장과 체중의 두 변수간의 공분산 행렬을 만들기"
   ]
  },
  {
   "cell_type": "markdown",
   "id": "1a3168bc",
   "metadata": {},
   "source": [
    "### 공분산 행렬이란?\n",
    "- 변수들 사이의 공분산을 행렬로 나타낸 것\n",
    "- 정방행렬이다\n",
    "- 전치 시켰을 때, 동일한 결과가 나오는 대칭행렬이다\n",
    "- 행렬의 대각항들은 단일 변수의 분산을 의미\n",
    "- 기호 K_xx 로 표시"
   ]
  },
  {
   "cell_type": "code",
   "execution_count": null,
   "id": "a3b63d14",
   "metadata": {},
   "outputs": [],
   "source": []
  },
  {
   "cell_type": "code",
   "execution_count": null,
   "id": "04e57220",
   "metadata": {},
   "outputs": [],
   "source": []
  },
  {
   "cell_type": "code",
   "execution_count": null,
   "id": "675041fa",
   "metadata": {},
   "outputs": [],
   "source": []
  },
  {
   "cell_type": "code",
   "execution_count": null,
   "id": "7d64fb10",
   "metadata": {},
   "outputs": [],
   "source": []
  },
  {
   "cell_type": "code",
   "execution_count": null,
   "id": "1e6f0e13",
   "metadata": {},
   "outputs": [],
   "source": []
  }
 ],
 "metadata": {
  "kernelspec": {
   "display_name": "Python 3",
   "language": "python",
   "name": "python3"
  },
  "language_info": {
   "codemirror_mode": {
    "name": "ipython",
    "version": 3
   },
   "file_extension": ".py",
   "mimetype": "text/x-python",
   "name": "python",
   "nbconvert_exporter": "python",
   "pygments_lexer": "ipython3",
   "version": "3.8.8"
  }
 },
 "nbformat": 4,
 "nbformat_minor": 5
}
