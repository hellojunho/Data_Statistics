{
 "cells": [
  {
   "cell_type": "markdown",
   "id": "bf4eb270",
   "metadata": {},
   "source": [
    "## 4-1 신장과 체중에 대한 각각의 히스토그램 그리기"
   ]
  },
  {
   "cell_type": "markdown",
   "id": "f2f90184",
   "metadata": {},
   "source": [
    "## 4-2 신장과 체중에 대한 상위 및 하위 사분위수 찾기"
   ]
  },
  {
   "cell_type": "markdown",
   "id": "a5e142bf",
   "metadata": {},
   "source": [
    "## 4-3 히스토그램을 바탕으로 신장과 체중의 이상점이 있는지 확인하기"
   ]
  }
 ],
 "metadata": {
  "kernelspec": {
   "display_name": "Python 3",
   "language": "python",
   "name": "python3"
  },
  "language_info": {
   "codemirror_mode": {
    "name": "ipython",
    "version": 3
   },
   "file_extension": ".py",
   "mimetype": "text/x-python",
   "name": "python",
   "nbconvert_exporter": "python",
   "pygments_lexer": "ipython3",
   "version": "3.8.8"
  }
 },
 "nbformat": 4,
 "nbformat_minor": 5
}
