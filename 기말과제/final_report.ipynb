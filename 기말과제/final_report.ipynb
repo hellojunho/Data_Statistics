{
 "cells": [
  {
   "cell_type": "markdown",
   "metadata": {
    "id": "Fe9hZMUnJxrT"
   },
   "source": [
    "### **데이터 준비**"
   ]
  },
  {
   "cell_type": "code",
   "execution_count": 1,
   "metadata": {
    "executionInfo": {
     "elapsed": 1830,
     "status": "ok",
     "timestamp": 1670824862158,
     "user": {
      "displayName": "LEE Patrick",
      "userId": "02676227169505511966"
     },
     "user_tz": -540
    },
    "id": "AwCll8uk6x9w"
   },
   "outputs": [],
   "source": [
    "import numpy as np\n",
    "import pandas as pd\n",
    "from scipy import stats"
   ]
  },
  {
   "cell_type": "code",
   "execution_count": 2,
   "metadata": {
    "colab": {
     "base_uri": "https://localhost:8080/",
     "height": 35
    },
    "executionInfo": {
     "elapsed": 6,
     "status": "ok",
     "timestamp": 1670824862159,
     "user": {
      "displayName": "LEE Patrick",
      "userId": "02676227169505511966"
     },
     "user_tz": -540
    },
    "id": "_UYGNWMw66KX",
    "outputId": "0d74332f-1eee-40cb-da4b-2f0fdeed7f38"
   },
   "outputs": [
    {
     "data": {
      "text/plain": [
       "'%.3f'"
      ]
     },
     "execution_count": 2,
     "metadata": {},
     "output_type": "execute_result"
    }
   ],
   "source": [
    "%precision 3"
   ]
  },
  {
   "cell_type": "code",
   "execution_count": 3,
   "metadata": {
    "executionInfo": {
     "elapsed": 440,
     "status": "ok",
     "timestamp": 1670824870372,
     "user": {
      "displayName": "LEE Patrick",
      "userId": "02676227169505511966"
     },
     "user_tz": -540
    },
    "id": "26EZhX146-0e"
   },
   "outputs": [],
   "source": [
    "np.random.seed(1111)"
   ]
  },
  {
   "cell_type": "code",
   "execution_count": 19,
   "metadata": {
    "executionInfo": {
     "elapsed": 435,
     "status": "ok",
     "timestamp": 1670825211607,
     "user": {
      "displayName": "LEE Patrick",
      "userId": "02676227169505511966"
     },
     "user_tz": -540
    },
    "id": "BvQ3YSQW7DtV",
    "scrolled": true
   },
   "outputs": [
    {
     "data": {
      "text/plain": [
       "array([122.02, 131.73, 130.6 , 131.82, 132.05, 126.12, 124.43, 132.89,\n",
       "       122.79, 129.95, 126.14, 134.45, 127.64, 125.68])"
      ]
     },
     "execution_count": 19,
     "metadata": {},
     "output_type": "execute_result"
    }
   ],
   "source": [
    "# df = {122.02, 131.73, 130.6, 131.82, 132.05, 126.12, 124.43, 132.89, 122.79, 129.95, 126.14, 134.45, 127.64, 125.68}\n",
    "df = pd.read_csv('ch11_potato.csv')\n",
    "sample = np.array(df['무게'])\n",
    "sample"
   ]
  },
  {
   "cell_type": "code",
   "execution_count": 20,
   "metadata": {},
   "outputs": [
    {
     "data": {
      "text/plain": [
       "128.4507142857143"
      ]
     },
     "execution_count": 20,
     "metadata": {},
     "output_type": "execute_result"
    }
   ],
   "source": [
    "s_mean = np.mean(sample)\n",
    "s_mean"
   ]
  },
  {
   "cell_type": "code",
   "execution_count": 8,
   "metadata": {
    "colab": {
     "base_uri": "https://localhost:8080/"
    },
    "executionInfo": {
     "elapsed": 17198,
     "status": "ok",
     "timestamp": 1670825829211,
     "user": {
      "displayName": "LEE Patrick",
      "userId": "02676227169505511966"
     },
     "user_tz": -540
    },
    "id": "WSqFB1jA-ghz",
    "outputId": "4c31db43-bf97-4312-df6f-2f32c2d5289c"
   },
   "outputs": [
    {
     "ename": "ModuleNotFoundError",
     "evalue": "No module named 'google'",
     "output_type": "error",
     "traceback": [
      "\u001b[1;31m---------------------------------------------------------------------------\u001b[0m",
      "\u001b[1;31mModuleNotFoundError\u001b[0m                       Traceback (most recent call last)",
      "\u001b[1;32m<ipython-input-8-d5df0069828e>\u001b[0m in \u001b[0;36m<module>\u001b[1;34m()\u001b[0m\n\u001b[1;32m----> 1\u001b[1;33m \u001b[1;32mfrom\u001b[0m \u001b[0mgoogle\u001b[0m\u001b[1;33m.\u001b[0m\u001b[0mcolab\u001b[0m \u001b[1;32mimport\u001b[0m \u001b[0mdrive\u001b[0m\u001b[1;33m\u001b[0m\u001b[0m\n\u001b[0m\u001b[0;32m      2\u001b[0m \u001b[0mdrive\u001b[0m\u001b[1;33m.\u001b[0m\u001b[0mmount\u001b[0m\u001b[1;33m(\u001b[0m\u001b[1;34m'/content/drive'\u001b[0m\u001b[1;33m)\u001b[0m\u001b[1;33m\u001b[0m\u001b[0m\n",
      "\u001b[1;31mModuleNotFoundError\u001b[0m: No module named 'google'"
     ]
    }
   ],
   "source": [
    "from google.colab import drive\n",
    "drive.mount('/content/drive')"
   ]
  },
  {
   "cell_type": "code",
   "execution_count": 6,
   "metadata": {
    "executionInfo": {
     "elapsed": 3,
     "status": "ok",
     "timestamp": 1670826282513,
     "user": {
      "displayName": "LEE Patrick",
      "userId": "02676227169505511966"
     },
     "user_tz": -540
    },
    "id": "q0Avg3jz-9Cs"
   },
   "outputs": [],
   "source": [
    "path = '/content/drive/MyDrive/'"
   ]
  },
  {
   "cell_type": "code",
   "execution_count": 7,
   "metadata": {
    "executionInfo": {
     "elapsed": 401,
     "status": "ok",
     "timestamp": 1670826289256,
     "user": {
      "displayName": "LEE Patrick",
      "userId": "02676227169505511966"
     },
     "user_tz": -540
    },
    "id": "e4Glqpt78XDj"
   },
   "outputs": [
    {
     "ename": "FileNotFoundError",
     "evalue": "File b'/content/drive/MyDrive/ch11_potato.csv' does not exist",
     "output_type": "error",
     "traceback": [
      "\u001b[1;31m---------------------------------------------------------------------------\u001b[0m",
      "\u001b[1;31mFileNotFoundError\u001b[0m                         Traceback (most recent call last)",
      "\u001b[1;32m<ipython-input-7-589b03ebf4d4>\u001b[0m in \u001b[0;36m<module>\u001b[1;34m()\u001b[0m\n\u001b[1;32m----> 1\u001b[1;33m \u001b[0mdf\u001b[0m \u001b[1;33m=\u001b[0m \u001b[0mpd\u001b[0m\u001b[1;33m.\u001b[0m\u001b[0mread_csv\u001b[0m\u001b[1;33m(\u001b[0m\u001b[0mpath\u001b[0m \u001b[1;33m+\u001b[0m \u001b[1;34m'ch11_potato.csv'\u001b[0m\u001b[1;33m)\u001b[0m\u001b[1;33m\u001b[0m\u001b[0m\n\u001b[0m",
      "\u001b[1;32m~\\Anaconda3\\lib\\site-packages\\pandas\\io\\parsers.py\u001b[0m in \u001b[0;36mparser_f\u001b[1;34m(filepath_or_buffer, sep, delimiter, header, names, index_col, usecols, squeeze, prefix, mangle_dupe_cols, dtype, engine, converters, true_values, false_values, skipinitialspace, skiprows, nrows, na_values, keep_default_na, na_filter, verbose, skip_blank_lines, parse_dates, infer_datetime_format, keep_date_col, date_parser, dayfirst, iterator, chunksize, compression, thousands, decimal, lineterminator, quotechar, quoting, escapechar, comment, encoding, dialect, tupleize_cols, error_bad_lines, warn_bad_lines, skipfooter, doublequote, delim_whitespace, low_memory, memory_map, float_precision)\u001b[0m\n\u001b[0;32m    676\u001b[0m                     skip_blank_lines=skip_blank_lines)\n\u001b[0;32m    677\u001b[0m \u001b[1;33m\u001b[0m\u001b[0m\n\u001b[1;32m--> 678\u001b[1;33m         \u001b[1;32mreturn\u001b[0m \u001b[0m_read\u001b[0m\u001b[1;33m(\u001b[0m\u001b[0mfilepath_or_buffer\u001b[0m\u001b[1;33m,\u001b[0m \u001b[0mkwds\u001b[0m\u001b[1;33m)\u001b[0m\u001b[1;33m\u001b[0m\u001b[0m\n\u001b[0m\u001b[0;32m    679\u001b[0m \u001b[1;33m\u001b[0m\u001b[0m\n\u001b[0;32m    680\u001b[0m     \u001b[0mparser_f\u001b[0m\u001b[1;33m.\u001b[0m\u001b[0m__name__\u001b[0m \u001b[1;33m=\u001b[0m \u001b[0mname\u001b[0m\u001b[1;33m\u001b[0m\u001b[0m\n",
      "\u001b[1;32m~\\Anaconda3\\lib\\site-packages\\pandas\\io\\parsers.py\u001b[0m in \u001b[0;36m_read\u001b[1;34m(filepath_or_buffer, kwds)\u001b[0m\n\u001b[0;32m    438\u001b[0m \u001b[1;33m\u001b[0m\u001b[0m\n\u001b[0;32m    439\u001b[0m     \u001b[1;31m# Create the parser.\u001b[0m\u001b[1;33m\u001b[0m\u001b[1;33m\u001b[0m\u001b[0m\n\u001b[1;32m--> 440\u001b[1;33m     \u001b[0mparser\u001b[0m \u001b[1;33m=\u001b[0m \u001b[0mTextFileReader\u001b[0m\u001b[1;33m(\u001b[0m\u001b[0mfilepath_or_buffer\u001b[0m\u001b[1;33m,\u001b[0m \u001b[1;33m**\u001b[0m\u001b[0mkwds\u001b[0m\u001b[1;33m)\u001b[0m\u001b[1;33m\u001b[0m\u001b[0m\n\u001b[0m\u001b[0;32m    441\u001b[0m \u001b[1;33m\u001b[0m\u001b[0m\n\u001b[0;32m    442\u001b[0m     \u001b[1;32mif\u001b[0m \u001b[0mchunksize\u001b[0m \u001b[1;32mor\u001b[0m \u001b[0miterator\u001b[0m\u001b[1;33m:\u001b[0m\u001b[1;33m\u001b[0m\u001b[0m\n",
      "\u001b[1;32m~\\Anaconda3\\lib\\site-packages\\pandas\\io\\parsers.py\u001b[0m in \u001b[0;36m__init__\u001b[1;34m(self, f, engine, **kwds)\u001b[0m\n\u001b[0;32m    785\u001b[0m             \u001b[0mself\u001b[0m\u001b[1;33m.\u001b[0m\u001b[0moptions\u001b[0m\u001b[1;33m[\u001b[0m\u001b[1;34m'has_index_names'\u001b[0m\u001b[1;33m]\u001b[0m \u001b[1;33m=\u001b[0m \u001b[0mkwds\u001b[0m\u001b[1;33m[\u001b[0m\u001b[1;34m'has_index_names'\u001b[0m\u001b[1;33m]\u001b[0m\u001b[1;33m\u001b[0m\u001b[0m\n\u001b[0;32m    786\u001b[0m \u001b[1;33m\u001b[0m\u001b[0m\n\u001b[1;32m--> 787\u001b[1;33m         \u001b[0mself\u001b[0m\u001b[1;33m.\u001b[0m\u001b[0m_make_engine\u001b[0m\u001b[1;33m(\u001b[0m\u001b[0mself\u001b[0m\u001b[1;33m.\u001b[0m\u001b[0mengine\u001b[0m\u001b[1;33m)\u001b[0m\u001b[1;33m\u001b[0m\u001b[0m\n\u001b[0m\u001b[0;32m    788\u001b[0m \u001b[1;33m\u001b[0m\u001b[0m\n\u001b[0;32m    789\u001b[0m     \u001b[1;32mdef\u001b[0m \u001b[0mclose\u001b[0m\u001b[1;33m(\u001b[0m\u001b[0mself\u001b[0m\u001b[1;33m)\u001b[0m\u001b[1;33m:\u001b[0m\u001b[1;33m\u001b[0m\u001b[0m\n",
      "\u001b[1;32m~\\Anaconda3\\lib\\site-packages\\pandas\\io\\parsers.py\u001b[0m in \u001b[0;36m_make_engine\u001b[1;34m(self, engine)\u001b[0m\n\u001b[0;32m   1012\u001b[0m     \u001b[1;32mdef\u001b[0m \u001b[0m_make_engine\u001b[0m\u001b[1;33m(\u001b[0m\u001b[0mself\u001b[0m\u001b[1;33m,\u001b[0m \u001b[0mengine\u001b[0m\u001b[1;33m=\u001b[0m\u001b[1;34m'c'\u001b[0m\u001b[1;33m)\u001b[0m\u001b[1;33m:\u001b[0m\u001b[1;33m\u001b[0m\u001b[0m\n\u001b[0;32m   1013\u001b[0m         \u001b[1;32mif\u001b[0m \u001b[0mengine\u001b[0m \u001b[1;33m==\u001b[0m \u001b[1;34m'c'\u001b[0m\u001b[1;33m:\u001b[0m\u001b[1;33m\u001b[0m\u001b[0m\n\u001b[1;32m-> 1014\u001b[1;33m             \u001b[0mself\u001b[0m\u001b[1;33m.\u001b[0m\u001b[0m_engine\u001b[0m \u001b[1;33m=\u001b[0m \u001b[0mCParserWrapper\u001b[0m\u001b[1;33m(\u001b[0m\u001b[0mself\u001b[0m\u001b[1;33m.\u001b[0m\u001b[0mf\u001b[0m\u001b[1;33m,\u001b[0m \u001b[1;33m**\u001b[0m\u001b[0mself\u001b[0m\u001b[1;33m.\u001b[0m\u001b[0moptions\u001b[0m\u001b[1;33m)\u001b[0m\u001b[1;33m\u001b[0m\u001b[0m\n\u001b[0m\u001b[0;32m   1015\u001b[0m         \u001b[1;32melse\u001b[0m\u001b[1;33m:\u001b[0m\u001b[1;33m\u001b[0m\u001b[0m\n\u001b[0;32m   1016\u001b[0m             \u001b[1;32mif\u001b[0m \u001b[0mengine\u001b[0m \u001b[1;33m==\u001b[0m \u001b[1;34m'python'\u001b[0m\u001b[1;33m:\u001b[0m\u001b[1;33m\u001b[0m\u001b[0m\n",
      "\u001b[1;32m~\\Anaconda3\\lib\\site-packages\\pandas\\io\\parsers.py\u001b[0m in \u001b[0;36m__init__\u001b[1;34m(self, src, **kwds)\u001b[0m\n\u001b[0;32m   1706\u001b[0m         \u001b[0mkwds\u001b[0m\u001b[1;33m[\u001b[0m\u001b[1;34m'usecols'\u001b[0m\u001b[1;33m]\u001b[0m \u001b[1;33m=\u001b[0m \u001b[0mself\u001b[0m\u001b[1;33m.\u001b[0m\u001b[0musecols\u001b[0m\u001b[1;33m\u001b[0m\u001b[0m\n\u001b[0;32m   1707\u001b[0m \u001b[1;33m\u001b[0m\u001b[0m\n\u001b[1;32m-> 1708\u001b[1;33m         \u001b[0mself\u001b[0m\u001b[1;33m.\u001b[0m\u001b[0m_reader\u001b[0m \u001b[1;33m=\u001b[0m \u001b[0mparsers\u001b[0m\u001b[1;33m.\u001b[0m\u001b[0mTextReader\u001b[0m\u001b[1;33m(\u001b[0m\u001b[0msrc\u001b[0m\u001b[1;33m,\u001b[0m \u001b[1;33m**\u001b[0m\u001b[0mkwds\u001b[0m\u001b[1;33m)\u001b[0m\u001b[1;33m\u001b[0m\u001b[0m\n\u001b[0m\u001b[0;32m   1709\u001b[0m \u001b[1;33m\u001b[0m\u001b[0m\n\u001b[0;32m   1710\u001b[0m         \u001b[0mpassed_names\u001b[0m \u001b[1;33m=\u001b[0m \u001b[0mself\u001b[0m\u001b[1;33m.\u001b[0m\u001b[0mnames\u001b[0m \u001b[1;32mis\u001b[0m \u001b[1;32mNone\u001b[0m\u001b[1;33m\u001b[0m\u001b[0m\n",
      "\u001b[1;32mpandas\\_libs\\parsers.pyx\u001b[0m in \u001b[0;36mpandas._libs.parsers.TextReader.__cinit__\u001b[1;34m()\u001b[0m\n",
      "\u001b[1;32mpandas\\_libs\\parsers.pyx\u001b[0m in \u001b[0;36mpandas._libs.parsers.TextReader._setup_parser_source\u001b[1;34m()\u001b[0m\n",
      "\u001b[1;31mFileNotFoundError\u001b[0m: File b'/content/drive/MyDrive/ch11_potato.csv' does not exist"
     ]
    }
   ],
   "source": [
    "df = pd.read_csv(path + 'ch11_potato.csv')"
   ]
  },
  {
   "cell_type": "code",
   "execution_count": 55,
   "metadata": {
    "colab": {
     "base_uri": "https://localhost:8080/"
    },
    "executionInfo": {
     "elapsed": 411,
     "status": "ok",
     "timestamp": 1670826755518,
     "user": {
      "displayName": "LEE Patrick",
      "userId": "02676227169505511966"
     },
     "user_tz": -540
    },
    "id": "zOBLY2GA8X6T",
    "outputId": "6f557aa7-a22e-49dc-c19e-e95eb2d4f361"
   },
   "outputs": [
    {
     "data": {
      "text/plain": [
       "array([122.02, 131.73, 130.6 , 131.82, 132.05, 126.12, 124.43, 132.89,\n",
       "       122.79, 129.95, 126.14, 134.45, 127.64, 125.68])"
      ]
     },
     "execution_count": 55,
     "metadata": {},
     "output_type": "execute_result"
    }
   ],
   "source": [
    "sample = np.array(df['무게'])\n",
    "sample"
   ]
  },
  {
   "cell_type": "code",
   "execution_count": 44,
   "metadata": {
    "colab": {
     "base_uri": "https://localhost:8080/"
    },
    "executionInfo": {
     "elapsed": 2,
     "status": "ok",
     "timestamp": 1670826350939,
     "user": {
      "displayName": "LEE Patrick",
      "userId": "02676227169505511966"
     },
     "user_tz": -540
    },
    "id": "cXy41LaJAk8u",
    "outputId": "714d8c11-e3dc-4a69-f320-0d8663a44726"
   },
   "outputs": [
    {
     "data": {
      "text/plain": [
       "128.4507142857143"
      ]
     },
     "execution_count": 44,
     "metadata": {},
     "output_type": "execute_result"
    }
   ],
   "source": [
    "s_mean = np.mean(sample)\n",
    "s_mean"
   ]
  },
  {
   "cell_type": "markdown",
   "metadata": {
    "id": "i_daLWidCS0q"
   },
   "source": [
    "###**가설검증의 기본**"
   ]
  },
  {
   "cell_type": "code",
   "execution_count": 46,
   "metadata": {
    "executionInfo": {
     "elapsed": 413,
     "status": "ok",
     "timestamp": 1670826403491,
     "user": {
      "displayName": "LEE Patrick",
      "userId": "02676227169505511966"
     },
     "user_tz": -540
    },
    "id": "XSm5Y1b_Aqcy"
   },
   "outputs": [],
   "source": [
    "rv = stats.norm(130, np.sqrt(9/14))"
   ]
  },
  {
   "cell_type": "code",
   "execution_count": 47,
   "metadata": {
    "colab": {
     "base_uri": "https://localhost:8080/"
    },
    "executionInfo": {
     "elapsed": 3,
     "status": "ok",
     "timestamp": 1670826416536,
     "user": {
      "displayName": "LEE Patrick",
      "userId": "02676227169505511966"
     },
     "user_tz": -540
    },
    "id": "PkYoJi8yA2g1",
    "outputId": "37e77786-ecbf-4b16-f359-ef3016b038bb"
   },
   "outputs": [
    {
     "data": {
      "text/plain": [
       "128.68118313069039"
      ]
     },
     "execution_count": 47,
     "metadata": {},
     "output_type": "execute_result"
    }
   ],
   "source": [
    "rv.isf(0.95)"
   ]
  },
  {
   "cell_type": "code",
   "execution_count": 49,
   "metadata": {
    "colab": {
     "base_uri": "https://localhost:8080/"
    },
    "executionInfo": {
     "elapsed": 423,
     "status": "ok",
     "timestamp": 1670826477214,
     "user": {
      "displayName": "LEE Patrick",
      "userId": "02676227169505511966"
     },
     "user_tz": -540
    },
    "id": "xPkMwqdyA9Px",
    "outputId": "ee0a7311-12c9-449b-bc19-25bbbba858c4"
   },
   "outputs": [
    {
     "data": {
      "text/plain": [
       "-1.932298779026813"
      ]
     },
     "execution_count": 49,
     "metadata": {},
     "output_type": "execute_result"
    }
   ],
   "source": [
    "z = (s_mean-130)/np.sqrt(9/14)\n",
    "z"
   ]
  },
  {
   "cell_type": "code",
   "execution_count": 51,
   "metadata": {
    "colab": {
     "base_uri": "https://localhost:8080/"
    },
    "executionInfo": {
     "elapsed": 8,
     "status": "ok",
     "timestamp": 1670826523148,
     "user": {
      "displayName": "LEE Patrick",
      "userId": "02676227169505511966"
     },
     "user_tz": -540
    },
    "id": "W5KsViZmBJbZ",
    "outputId": "8c00e49e-ea04-4414-fec2-90587750c96c"
   },
   "outputs": [
    {
     "data": {
      "text/plain": [
       "-1.6448536269514722"
      ]
     },
     "execution_count": 51,
     "metadata": {},
     "output_type": "execute_result"
    }
   ],
   "source": [
    "rv = stats.norm()\n",
    "rv.isf(0.95)"
   ]
  },
  {
   "cell_type": "code",
   "execution_count": 52,
   "metadata": {
    "colab": {
     "base_uri": "https://localhost:8080/"
    },
    "executionInfo": {
     "elapsed": 4,
     "status": "ok",
     "timestamp": 1670826540328,
     "user": {
      "displayName": "LEE Patrick",
      "userId": "02676227169505511966"
     },
     "user_tz": -540
    },
    "id": "XH0z0TNoBVuR",
    "outputId": "d854b2b1-b972-42fe-c158-8cd53f6f912d"
   },
   "outputs": [
    {
     "data": {
      "text/plain": [
       "0.026661319523126635"
      ]
     },
     "execution_count": 52,
     "metadata": {},
     "output_type": "execute_result"
    }
   ],
   "source": [
    "rv.cdf(z)"
   ]
  },
  {
   "cell_type": "code",
   "execution_count": 53,
   "metadata": {
    "colab": {
     "base_uri": "https://localhost:8080/"
    },
    "executionInfo": {
     "elapsed": 7,
     "status": "ok",
     "timestamp": 1670826585763,
     "user": {
      "displayName": "LEE Patrick",
      "userId": "02676227169505511966"
     },
     "user_tz": -540
    },
    "id": "qjhpUDeDBbTg",
    "outputId": "a3189bd8-3497-4ba0-9ba1-f30bbe3b54d7"
   },
   "outputs": [
    {
     "data": {
      "text/plain": [
       "(-1.959963984540054, 1.959963984540054)"
      ]
     },
     "execution_count": 53,
     "metadata": {},
     "output_type": "execute_result"
    }
   ],
   "source": [
    "rv.interval(0.95)"
   ]
  },
  {
   "cell_type": "code",
   "execution_count": 54,
   "metadata": {
    "colab": {
     "base_uri": "https://localhost:8080/"
    },
    "executionInfo": {
     "elapsed": 8,
     "status": "ok",
     "timestamp": 1670826611237,
     "user": {
      "displayName": "LEE Patrick",
      "userId": "02676227169505511966"
     },
     "user_tz": -540
    },
    "id": "kzYBCLD8Bmrg",
    "outputId": "356b97f7-632f-4fb3-9196-aae2429572fb"
   },
   "outputs": [
    {
     "data": {
      "text/plain": [
       "0.05332263904625327"
      ]
     },
     "execution_count": 54,
     "metadata": {},
     "output_type": "execute_result"
    }
   ],
   "source": [
    "rv.cdf(z)*2"
   ]
  },
  {
   "cell_type": "markdown",
   "metadata": {
    "id": "a6IbU569CACY"
   },
   "source": [
    "### **가설검증의 두가지 오류**"
   ]
  },
  {
   "cell_type": "code",
   "execution_count": 56,
   "metadata": {
    "executionInfo": {
     "elapsed": 5,
     "status": "ok",
     "timestamp": 1670826843040,
     "user": {
      "displayName": "LEE Patrick",
      "userId": "02676227169505511966"
     },
     "user_tz": -540
    },
    "id": "UJAkq4yXBszH"
   },
   "outputs": [],
   "source": [
    "rv=stats.norm(130, 3)"
   ]
  },
  {
   "cell_type": "code",
   "execution_count": 57,
   "metadata": {
    "colab": {
     "base_uri": "https://localhost:8080/"
    },
    "executionInfo": {
     "elapsed": 1587,
     "status": "ok",
     "timestamp": 1670827061974,
     "user": {
      "displayName": "LEE Patrick",
      "userId": "02676227169505511966"
     },
     "user_tz": -540
    },
    "id": "zwMLpDeHClfe",
    "outputId": "98172072-858d-4855-d624-dabf31524326"
   },
   "outputs": [
    {
     "data": {
      "text/plain": [
       "0.053"
      ]
     },
     "execution_count": 57,
     "metadata": {},
     "output_type": "execute_result"
    }
   ],
   "source": [
    "c = stats.norm().isf(0.95)\n",
    "n_samples = 10000\n",
    "cnt = 0\n",
    "for _ in range(n_samples):\n",
    "  sample_ = np.round(rv.rvs(14), 2)\n",
    "  s_mean_ = np.mean(sample_)\n",
    "  z = (s_mean_-130)/np.sqrt(9/14)\n",
    "  if z < c:\n",
    "    cnt += 1\n",
    "cnt/n_samples"
   ]
  },
  {
   "cell_type": "code",
   "execution_count": 58,
   "metadata": {
    "executionInfo": {
     "elapsed": 2,
     "status": "ok",
     "timestamp": 1670827090563,
     "user": {
      "displayName": "LEE Patrick",
      "userId": "02676227169505511966"
     },
     "user_tz": -540
    },
    "id": "m58WdpM6Dait"
   },
   "outputs": [],
   "source": [
    "rv = stats.norm(128, 3)"
   ]
  },
  {
   "cell_type": "code",
   "execution_count": 61,
   "metadata": {
    "colab": {
     "base_uri": "https://localhost:8080/"
    },
    "executionInfo": {
     "elapsed": 763,
     "status": "ok",
     "timestamp": 1670827174469,
     "user": {
      "displayName": "LEE Patrick",
      "userId": "02676227169505511966"
     },
     "user_tz": -540
    },
    "id": "-5PwkhwTDh2E",
    "outputId": "dcec376b-6d5e-4c73-f836-ddc2946dcfd4"
   },
   "outputs": [
    {
     "data": {
      "text/plain": [
       "0.197"
      ]
     },
     "execution_count": 61,
     "metadata": {},
     "output_type": "execute_result"
    }
   ],
   "source": [
    "c = stats.norm().isf(0.95)\n",
    "n_samples = 10000\n",
    "cnt = 0\n",
    "for _ in range(n_samples):\n",
    "  sample_ = np.round(rv.rvs(14), 2)\n",
    "  s_mean_ = np.mean(sample_)\n",
    "  z = (s_mean_-130)/np.sqrt(9/14)\n",
    "  if z >= c:\n",
    "    cnt += 1\n",
    "cnt/n_samples"
   ]
  },
  {
   "cell_type": "markdown",
   "metadata": {
    "id": "VUilB4WJD6RB"
   },
   "source": [
    "### **가설검정**"
   ]
  },
  {
   "cell_type": "markdown",
   "metadata": {
    "id": "DnTaZ0bOGwto"
   },
   "source": [
    "**Z-검정**"
   ]
  },
  {
   "cell_type": "code",
   "execution_count": 68,
   "metadata": {
    "executionInfo": {
     "elapsed": 1,
     "status": "ok",
     "timestamp": 1670827752495,
     "user": {
      "displayName": "LEE Patrick",
      "userId": "02676227169505511966"
     },
     "user_tz": -540
    },
    "id": "YAlYt9_ZDlhE"
   },
   "outputs": [],
   "source": [
    "def pmean_test(sample, mean0, p_var, alpha = 0.05):\n",
    "  s_mean = np.mean(sample)\n",
    "  n = len(sample)\n",
    "  rv = stats.norm()\n",
    "  interval = rv.interval(1-alpha)\n",
    "\n",
    "  z=(s_mean-mean0)/np.sqrt(p_var/n)\n",
    "  if interval[0] <= z <= interval[1]:\n",
    "    print('귀무가설 채택-- H0 accept')\n",
    "  else:\n",
    "    print('귀무가설 기각-- H0 reject')\n",
    "\n",
    "  if z < 0:\n",
    "    p = rv.cdf(z) * 2\n",
    "  else:\n",
    "    p = (1 - rv.cdf(z)) * 2\n",
    "  print(f'p값은 {p: .3f}')"
   ]
  },
  {
   "cell_type": "code",
   "execution_count": 69,
   "metadata": {
    "colab": {
     "base_uri": "https://localhost:8080/"
    },
    "executionInfo": {
     "elapsed": 9,
     "status": "ok",
     "timestamp": 1670827754342,
     "user": {
      "displayName": "LEE Patrick",
      "userId": "02676227169505511966"
     },
     "user_tz": -540
    },
    "id": "icPs_VWLFNlh",
    "outputId": "3df5943d-97f9-425d-9f24-5b56e98a255d"
   },
   "outputs": [
    {
     "name": "stdout",
     "output_type": "stream",
     "text": [
      "귀무가설 채택-- H0 accept\n",
      "p값은  0.053\n"
     ]
    }
   ],
   "source": [
    "pmean_test(sample, 130, 9)"
   ]
  },
  {
   "cell_type": "markdown",
   "metadata": {
    "id": "QxwBUWhMG0Fe"
   },
   "source": [
    "**카이제곱검정**"
   ]
  },
  {
   "cell_type": "code",
   "execution_count": 70,
   "metadata": {
    "executionInfo": {
     "elapsed": 3,
     "status": "ok",
     "timestamp": 1670827896464,
     "user": {
      "displayName": "LEE Patrick",
      "userId": "02676227169505511966"
     },
     "user_tz": -540
    },
    "id": "Cc0n97EQFR-Z"
   },
   "outputs": [],
   "source": [
    "def pvar_test(sample, var0, alpha = 0.05):\n",
    "  u_var = np.var(sample, ddof = 1)\n",
    "  n = len(sample)\n",
    "  rv = stats.chi2(df = n-1)\n",
    "  interval = rv.interval(1-alpha)\n",
    "\n",
    "  y=(n-1)*u_var/var0\n",
    "  if interval[0] <= y <= interval[1]:\n",
    "    print('귀무가설 채택-- H0 accept')\n",
    "  else:\n",
    "    print('귀무가설 기각-- H0 reject')\n",
    "\n",
    "  if y < rv.isf(0.5):\n",
    "    p = rv.cdf(y) * 2\n",
    "  else:\n",
    "    p = (1 - rv.cdf(y)) * 2\n",
    "  print(f'p값은 {p: .3f}')"
   ]
  },
  {
   "cell_type": "code",
   "execution_count": 71,
   "metadata": {
    "colab": {
     "base_uri": "https://localhost:8080/"
    },
    "executionInfo": {
     "elapsed": 10,
     "status": "ok",
     "timestamp": 1670827916232,
     "user": {
      "displayName": "LEE Patrick",
      "userId": "02676227169505511966"
     },
     "user_tz": -540
    },
    "id": "cK8SnbZuGmen",
    "outputId": "d04dbf17-84e8-4e54-c0b7-12193a8bdcf3"
   },
   "outputs": [
    {
     "name": "stdout",
     "output_type": "stream",
     "text": [
      "귀무가설 채택-- H0 accept\n",
      "p값은  0.085\n"
     ]
    }
   ],
   "source": [
    "pvar_test(sample, 9)"
   ]
  },
  {
   "cell_type": "markdown",
   "metadata": {
    "id": "JkwbNKpgG5p2"
   },
   "source": [
    "**t-검정**"
   ]
  },
  {
   "cell_type": "code",
   "execution_count": 72,
   "metadata": {
    "executionInfo": {
     "elapsed": 2,
     "status": "ok",
     "timestamp": 1670828097102,
     "user": {
      "displayName": "LEE Patrick",
      "userId": "02676227169505511966"
     },
     "user_tz": -540
    },
    "id": "6b2FRrYOGrjG"
   },
   "outputs": [],
   "source": [
    "def pmean_test(sample, mean0, alpha = 0.05):\n",
    "  s_mean = np.mean(sample)\n",
    "  u_var = np.var(sample, ddof = 1)\n",
    "  n = len(sample)\n",
    "  rv = stats.t(df = n-1)\n",
    "  interval = rv.interval(1-alpha)\n",
    "\n",
    "  t=(s_mean-mean0)/np.sqrt(u_var/n)\n",
    "  if interval[0] <= z <= interval[1]:\n",
    "    print('귀무가설 채택-- H0 accept')\n",
    "  else:\n",
    "    print('귀무가설 기각-- H0 reject')\n",
    "\n",
    "  if z < 0:\n",
    "    p = rv.cdf(t) * 2\n",
    "  else:\n",
    "    p = (1 - rv.cdf(t)) * 2\n",
    "  print(f'p값은 {p: .3f}')"
   ]
  },
  {
   "cell_type": "code",
   "execution_count": 73,
   "metadata": {
    "colab": {
     "base_uri": "https://localhost:8080/"
    },
    "executionInfo": {
     "elapsed": 11,
     "status": "ok",
     "timestamp": 1670828111903,
     "user": {
      "displayName": "LEE Patrick",
      "userId": "02676227169505511966"
     },
     "user_tz": -540
    },
    "id": "lLwuVlLmHXgw",
    "outputId": "81de8358-a368-40be-e6e6-66584622c620"
   },
   "outputs": [
    {
     "name": "stdout",
     "output_type": "stream",
     "text": [
      "귀무가설 채택-- H0 accept\n",
      "p값은  0.169\n"
     ]
    }
   ],
   "source": [
    "pmean_test(sample, 130)"
   ]
  },
  {
   "cell_type": "code",
   "execution_count": 74,
   "metadata": {
    "colab": {
     "base_uri": "https://localhost:8080/"
    },
    "executionInfo": {
     "elapsed": 6,
     "status": "ok",
     "timestamp": 1670828160092,
     "user": {
      "displayName": "LEE Patrick",
      "userId": "02676227169505511966"
     },
     "user_tz": -540
    },
    "id": "D5T7MzZtHbQE",
    "outputId": "1f4ea3b2-677a-481c-f9e3-4219addec6a8"
   },
   "outputs": [
    {
     "data": {
      "text/plain": [
       "(-1.4551960206404198, 0.16933464230414275)"
      ]
     },
     "execution_count": 74,
     "metadata": {},
     "output_type": "execute_result"
    }
   ],
   "source": [
    "t, p = stats.ttest_1samp(sample, 130)\n",
    "t, p"
   ]
  },
  {
   "cell_type": "markdown",
   "metadata": {
    "id": "zCFIRg7dKWmb"
   },
   "source": [
    "END"
   ]
  }
 ],
 "metadata": {
  "colab": {
   "authorship_tag": "ABX9TyNVh4YJIkG2V1pqrDoy9Pih",
   "mount_file_id": "11XAf41sUiK_99u5MOmWazOIPLW15qOqS",
   "provenance": []
  },
  "kernelspec": {
   "display_name": "Python 3",
   "language": "python",
   "name": "python3"
  },
  "language_info": {
   "codemirror_mode": {
    "name": "ipython",
    "version": 3
   },
   "file_extension": ".py",
   "mimetype": "text/x-python",
   "name": "python",
   "nbconvert_exporter": "python",
   "pygments_lexer": "ipython3",
   "version": "3.9.13 (tags/v3.9.13:6de2ca5, May 17 2022, 16:36:42) [MSC v.1929 64 bit (AMD64)]"
  },
  "vscode": {
   "interpreter": {
    "hash": "e9877f664ee065d9f621f8a6859ac206d93fcaa68dd0afacccd2eff303e88d83"
   }
  }
 },
 "nbformat": 4,
 "nbformat_minor": 1
}
